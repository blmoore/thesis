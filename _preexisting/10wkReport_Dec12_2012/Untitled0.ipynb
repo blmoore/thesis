{
 "metadata": {
  "name": "Untitled0"
 }, 
 "nbformat": 2, 
 "worksheets": [
  {
   "cells": [
    {
     "cell_type": "code", 
     "collapsed": true, 
     "input": [
      "print \"???\"", 
      "", 
      "", 
      ""
     ], 
     "language": "python", 
     "outputs": []
    }
   ]
  }
 ]
}